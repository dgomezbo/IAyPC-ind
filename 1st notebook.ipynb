{
 "cells": [
  {
   "cell_type": "markdown",
   "metadata": {},
   "source": [
    "# 100 años de soledad"
   ]
  },
  {
   "cell_type": "markdown",
   "metadata": {},
   "source": [
    "## Capítulo 1"
   ]
  },
  {
   "cell_type": "markdown",
   "metadata": {},
   "source": [
    "Es mi novela colombiana favorita"
   ]
  },
  {
   "cell_type": "markdown",
   "metadata": {},
   "source": [
    "[Venta en Google] (https://www.google.com.co/search?q=100+a%C3%B1os+de+soledad&source=lnms&tbm=bks&sa=X&ved=2ahUKEwiWz5mqp5XvAhUCrFkKHfr0A7YQ_AUoBHoECCEQBg&biw=1366&bih=657)"
   ]
  },
  {
   "cell_type": "markdown",
   "metadata": {},
   "source": [
    "![Portada del libro] (https://www.google.com.co/imgres?imgurl=https%3A%2F%2F2.bp.blogspot.com%2F-5fQwnaGnRKY%2FWpiUPhsweJI%2FAAAAAAAAOGs%2Fml0PMOQE44QlT3lDT2fYwGk-YkvErr2awCLcBGAs%2Fs1600%2Fcien-anos-de-soledad.jpg&imgrefurl=https%3A%2F%2Fes.diarioinca.com%2F2008%2F09%2Fresumen-de-cien-aos-de-soledad-gabriel.html&tbnid=c5622W5k7q1EjM&vet=12ahUKEwiz9P7-p5XvAhWjt1kKHVCGB3gQMygcegUIARCXAg..i&docid=35m-9JCishFC3M&w=246&h=349&q=100%20a%C3%B1os%20de%20soledad&hl=es&ved=2ahUKEwiz9P7-p5XvAhWjt1kKHVCGB3gQMygcegUIARCXAg)"
   ]
  },
  {
   "cell_type": "markdown",
   "metadata": {},
   "source": [
    "*Ejemplo de cursiva*"
   ]
  },
  {
   "cell_type": "markdown",
   "metadata": {},
   "source": [
    "**Ejemplo de negrilla**"
   ]
  },
  {
   "cell_type": "markdown",
   "metadata": {},
   "source": [
    "***Ejemplo de negrilla y cursiva***"
   ]
  },
  {
   "cell_type": "markdown",
   "metadata": {},
   "source": [
    "> Ejemplo de sangría"
   ]
  },
  {
   "cell_type": "markdown",
   "metadata": {},
   "source": [
    "$ y = x^2 $"
   ]
  },
  {
   "cell_type": "markdown",
   "metadata": {},
   "source": [
    "$$ y = x^2 $$"
   ]
  },
  {
   "cell_type": "markdown",
   "metadata": {},
   "source": [
    "$$ \\frac {dy}{dx} = Y' $$"
   ]
  },
  {
   "cell_type": "code",
   "execution_count": 4,
   "metadata": {},
   "outputs": [
    {
     "name": "stdout",
     "output_type": "stream",
     "text": [
      "Gabo: el único novel que se merece denominarse como tal en Colombia\n"
     ]
    }
   ],
   "source": [
    "print (\"Gabo: el único novel que se merece denominarse como tal en Colombia\")"
   ]
  },
  {
   "cell_type": "code",
   "execution_count": null,
   "metadata": {},
   "outputs": [],
   "source": []
  }
 ],
 "metadata": {
  "kernelspec": {
   "display_name": "Python 3",
   "language": "python",
   "name": "python3"
  },
  "language_info": {
   "codemirror_mode": {
    "name": "ipython",
    "version": 3
   },
   "file_extension": ".py",
   "mimetype": "text/x-python",
   "name": "python",
   "nbconvert_exporter": "python",
   "pygments_lexer": "ipython3",
   "version": "3.8.5"
  }
 },
 "nbformat": 4,
 "nbformat_minor": 4
}
