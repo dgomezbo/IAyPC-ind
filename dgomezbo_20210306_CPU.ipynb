{
  "nbformat": 4,
  "nbformat_minor": 0,
  "metadata": {
    "colab": {
      "name": "dgomezbo 20210306 CPU.ipynb",
      "provenance": [],
      "authorship_tag": "ABX9TyMI6kxMJDcRKjG2B8lk7Lyz",
      "include_colab_link": true
    },
    "kernelspec": {
      "name": "python3",
      "display_name": "Python 3"
    }
  },
  "cells": [
    {
      "cell_type": "markdown",
      "metadata": {
        "id": "view-in-github",
        "colab_type": "text"
      },
      "source": [
        "<a href=\"https://colab.research.google.com/github/dgomezbo/IAyPC-ind/blob/main/dgomezbo_20210306_CPU.ipynb\" target=\"_parent\"><img src=\"https://colab.research.google.com/assets/colab-badge.svg\" alt=\"Open In Colab\"/></a>"
      ]
    },
    {
      "cell_type": "markdown",
      "metadata": {
        "id": "ad9_rIgJvjzq"
      },
      "source": [
        "CUADERNO SOBRE CPU - David M Gómez Bolívar\r\n"
      ]
    },
    {
      "cell_type": "code",
      "metadata": {
        "colab": {
          "base_uri": "https://localhost:8080/",
          "height": 35
        },
        "id": "HbztiQ2Evqaj",
        "outputId": "210df5b2-e0c2-48cf-d237-fb15f30c19b5"
      },
      "source": [
        "'La CPU como el génesis del hardware'"
      ],
      "execution_count": 7,
      "outputs": [
        {
          "output_type": "execute_result",
          "data": {
            "application/vnd.google.colaboratory.intrinsic+json": {
              "type": "string"
            },
            "text/plain": [
              "'La CPU como el génesis del hardware'"
            ]
          },
          "metadata": {
            "tags": []
          },
          "execution_count": 7
        }
      ]
    },
    {
      "cell_type": "code",
      "metadata": {
        "id": "nphik2N5wD_J"
      },
      "source": [
        ""
      ],
      "execution_count": null,
      "outputs": []
    },
    {
      "cell_type": "markdown",
      "metadata": {
        "id": "Qw2cPcouwSJK"
      },
      "source": [
        "Fuente: https://www.xataka.com/basics/cpu-que-como-sirve"
      ]
    },
    {
      "cell_type": "code",
      "metadata": {
        "id": "48GpuXgbwBL8"
      },
      "source": [
        ""
      ],
      "execution_count": null,
      "outputs": []
    },
    {
      "cell_type": "markdown",
      "metadata": {
        "id": "7AoK9FSrwmqE"
      },
      "source": [
        "Más allá de hacer reverencia sobre la complejidad de una CPU en el contexto del hardware del siglo XX, y de sus limitaciones analizando el futuro del hardware en el siglo XXI (y venideros); es innegable la importancia de la Central Processing Unit (CPU) en nuestra vida rodeada de tecnología"
      ]
    },
    {
      "cell_type": "code",
      "metadata": {
        "id": "38j7-k2XxB7j"
      },
      "source": [
        ""
      ],
      "execution_count": null,
      "outputs": []
    },
    {
      "cell_type": "code",
      "metadata": {
        "id": "gmDD8DcFxKij"
      },
      "source": [
        ""
      ],
      "execution_count": null,
      "outputs": []
    }
  ]
}