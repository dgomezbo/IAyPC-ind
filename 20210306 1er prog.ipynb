{
 "cells": [
  {
   "cell_type": "code",
   "execution_count": 1,
   "metadata": {},
   "outputs": [
    {
     "name": "stdout",
     "output_type": "stream",
     "text": [
      "Hello people\n"
     ]
    }
   ],
   "source": [
    "print (\"Hello people\")"
   ]
  },
  {
   "cell_type": "code",
   "execution_count": 2,
   "metadata": {},
   "outputs": [
    {
     "name": "stdout",
     "output_type": "stream",
     "text": [
      "Que se dice?\n",
      "Todo erre?\n"
     ]
    }
   ],
   "source": [
    "print (\"Que se dice?\\nTodo erre?\")"
   ]
  },
  {
   "cell_type": "markdown",
   "metadata": {},
   "source": [
    "# Asignamos 2 a la variable x"
   ]
  },
  {
   "cell_type": "code",
   "execution_count": 3,
   "metadata": {},
   "outputs": [
    {
     "name": "stdout",
     "output_type": "stream",
     "text": [
      "El valor de la variable X es 2\n"
     ]
    }
   ],
   "source": [
    "x=2\n",
    "print (\"El valor de la variable X es\", x)"
   ]
  },
  {
   "cell_type": "code",
   "execution_count": 4,
   "metadata": {},
   "outputs": [
    {
     "name": "stdout",
     "output_type": "stream",
     "text": [
      "En Colombia el bicampeon de Colombia es La Mechita\n"
     ]
    }
   ],
   "source": [
    "y=\"el bicampeon de Colombia es La Mechita\"\n",
    "print (\"En Colombia\", y)"
   ]
  },
  {
   "cell_type": "markdown",
   "metadata": {},
   "source": [
    "# Ejemplo de como imprimir, con la variable en el medio de la frase"
   ]
  },
  {
   "cell_type": "code",
   "execution_count": 5,
   "metadata": {},
   "outputs": [
    {
     "name": "stdout",
     "output_type": "stream",
     "text": [
      "Tengo 37 años\n"
     ]
    }
   ],
   "source": [
    "my_age=37\n",
    "print (\"Tengo\", my_age, \"años\")"
   ]
  },
  {
   "cell_type": "markdown",
   "metadata": {},
   "source": [
    "# Tipos de variables"
   ]
  },
  {
   "cell_type": "code",
   "execution_count": 6,
   "metadata": {},
   "outputs": [
    {
     "name": "stdout",
     "output_type": "stream",
     "text": [
      "1\n",
      "<class 'int'>\n"
     ]
    }
   ],
   "source": [
    "x = 1\n",
    "print(x)\n",
    "print(type(x))"
   ]
  },
  {
   "cell_type": "code",
   "execution_count": 7,
   "metadata": {},
   "outputs": [
    {
     "name": "stdout",
     "output_type": "stream",
     "text": [
      "1000000000000000000000000000000000000000000000000000000000000000000000000000000000000000000001\n",
      "<class 'int'>\n"
     ]
    }
   ],
   "source": [
    "x = 1000000000000000000000000000000000000000000000000000000000000000000000000000000000000000000001\n",
    "print(x)\n",
    "print(type(x))"
   ]
  },
  {
   "cell_type": "code",
   "execution_count": 8,
   "metadata": {},
   "outputs": [
    {
     "name": "stdout",
     "output_type": "stream",
     "text": [
      "120\n",
      "<class 'str'>\n"
     ]
    }
   ],
   "source": [
    "# '120' es un string\n",
    "\n",
    "total = '120'\n",
    "print(total)\n",
    "print(type(total))"
   ]
  },
  {
   "cell_type": "code",
   "execution_count": 9,
   "metadata": {},
   "outputs": [
    {
     "name": "stdout",
     "output_type": "stream",
     "text": [
      "120\n",
      "<class 'int'>\n"
     ]
    }
   ],
   "source": [
    "total = int('120')\n",
    "print(total)\n",
    "print(type(total))"
   ]
  },
  {
   "cell_type": "code",
   "execution_count": 10,
   "metadata": {},
   "outputs": [
    {
     "name": "stdin",
     "output_type": "stream",
     "text": [
      "Por favor entre su edad: 37\n"
     ]
    },
    {
     "name": "stdout",
     "output_type": "stream",
     "text": [
      "37\n",
      "<class 'int'>\n"
     ]
    }
   ],
   "source": [
    "edad = int(input('Por favor entre su edad:'))\n",
    "print(edad)\n",
    "print(type(edad))"
   ]
  },
  {
   "cell_type": "markdown",
   "metadata": {},
   "source": [
    "## Punto flotante"
   ]
  },
  {
   "cell_type": "code",
   "execution_count": 11,
   "metadata": {},
   "outputs": [
    {
     "name": "stdout",
     "output_type": "stream",
     "text": [
      "1.56\n",
      "<class 'float'>\n"
     ]
    }
   ],
   "source": [
    "x = 1.56\n",
    "print(x)\n",
    "print(type(x))"
   ]
  },
  {
   "cell_type": "markdown",
   "metadata": {},
   "source": [
    "## Números complejos"
   ]
  },
  {
   "cell_type": "code",
   "execution_count": 12,
   "metadata": {},
   "outputs": [
    {
     "name": "stdout",
     "output_type": "stream",
     "text": [
      "(3.4+4j)\n",
      "<class 'complex'>\n"
     ]
    }
   ],
   "source": [
    "z = 3.4 + 4j\n",
    "print(z)\n",
    "print(type(z))"
   ]
  },
  {
   "cell_type": "markdown",
   "metadata": {},
   "source": [
    "## Boleanas: El tipo booleano se utiliza para variables que solamente pueden ser 'True' o 'False', es decir, valores booleanos o lógicos."
   ]
  },
  {
   "cell_type": "code",
   "execution_count": 13,
   "metadata": {},
   "outputs": [
    {
     "name": "stdout",
     "output_type": "stream",
     "text": [
      "True\n",
      "<class 'bool'>\n"
     ]
    }
   ],
   "source": [
    "t = True\n",
    "print(t)\n",
    "print(type(t))"
   ]
  },
  {
   "cell_type": "markdown",
   "metadata": {},
   "source": [
    "## None: Este es un tipo espceial de dato utilziado para indicar que una determinada variable no contiene ningun dato. Es muy útil en el control de muchas situaciones, porque sirve para saber si algún objeto a llegado a ser None. Mire el siguiente ejemplo."
   ]
  },
  {
   "cell_type": "code",
   "execution_count": 14,
   "metadata": {},
   "outputs": [
    {
     "name": "stdout",
     "output_type": "stream",
     "text": [
      "None\n",
      "<class 'NoneType'>\n"
     ]
    },
    {
     "data": {
      "text/plain": [
       "True"
      ]
     },
     "execution_count": 14,
     "metadata": {},
     "output_type": "execute_result"
    }
   ],
   "source": [
    "b = None\n",
    "print(b)\n",
    "print(type(b))\n",
    "\n",
    "z = 5\n",
    "\n",
    "b is None"
   ]
  },
  {
   "cell_type": "markdown",
   "metadata": {},
   "source": [
    "## Pruebe: z is None"
   ]
  },
  {
   "cell_type": "markdown",
   "metadata": {},
   "source": [
    "## Los string son expresiones que representan una cadena de caracteres, utiles para escribir mensajes y combinarlos con valores que generemos en nuestros procesamientos. Para escribi un texto en Python usamos comillas simples: '...' o comillas dobles: \"...\". Combinamos comillas para poner comillas adentro:"
   ]
  },
  {
   "cell_type": "code",
   "execution_count": 16,
   "metadata": {},
   "outputs": [
    {
     "name": "stdout",
     "output_type": "stream",
     "text": [
      "Texto simple escrito entre comillas simples\n"
     ]
    },
    {
     "data": {
      "text/plain": [
       "'Texto simple escrito entre comillas simples'"
      ]
     },
     "execution_count": 16,
     "metadata": {},
     "output_type": "execute_result"
    }
   ],
   "source": [
    "a='Texto simple escrito entre comillas simples'\n",
    "print(a)\n",
    "a"
   ]
  },
  {
   "cell_type": "code",
   "execution_count": 17,
   "metadata": {},
   "outputs": [
    {
     "name": "stdout",
     "output_type": "stream",
     "text": [
      "Texto simple escrito entre comillas dobles\n"
     ]
    },
    {
     "data": {
      "text/plain": [
       "'Texto simple escrito entre comillas dobles'"
      ]
     },
     "execution_count": 17,
     "metadata": {},
     "output_type": "execute_result"
    }
   ],
   "source": [
    "b=\"Texto simple escrito entre comillas dobles\"\n",
    "print(b)\n",
    "b"
   ]
  },
  {
   "cell_type": "code",
   "execution_count": 18,
   "metadata": {},
   "outputs": [
    {
     "name": "stdout",
     "output_type": "stream",
     "text": [
      "Texto simple escrito entre comillas simples que necesita \"adentrico\" comillas dobles\n"
     ]
    }
   ],
   "source": [
    "c='Texto simple escrito entre comillas simples que necesita \"adentrico\" comillas dobles'\n",
    "print(c)"
   ]
  },
  {
   "cell_type": "code",
   "execution_count": 19,
   "metadata": {},
   "outputs": [
    {
     "name": "stdout",
     "output_type": "stream",
     "text": [
      "Texto simple escrito entre comillas dobles que necesita Q'hubo comillas simples\n"
     ]
    }
   ],
   "source": [
    "d=\"Texto simple escrito entre comillas dobles que necesita Q'hubo comillas simples\"\n",
    "print(d)"
   ]
  },
  {
   "cell_type": "code",
   "execution_count": 20,
   "metadata": {},
   "outputs": [
    {
     "name": "stdout",
     "output_type": "stream",
     "text": [
      "La ruta del archivo es C:\\nombres\\archivo.ipynb\n"
     ]
    }
   ],
   "source": [
    "# Qué significa la r???\n",
    "print(r'La ruta del archivo es C:\\nombres\\archivo.ipynb')"
   ]
  },
  {
   "cell_type": "code",
   "execution_count": 22,
   "metadata": {},
   "outputs": [],
   "source": [
    "texto=\"cuidado_con_el_orden\""
   ]
  },
  {
   "cell_type": "code",
   "execution_count": 23,
   "metadata": {},
   "outputs": [
    {
     "name": "stdout",
     "output_type": "stream",
     "text": [
      "c\n"
     ]
    }
   ],
   "source": [
    "print(texto[0])"
   ]
  },
  {
   "cell_type": "code",
   "execution_count": 24,
   "metadata": {},
   "outputs": [
    {
     "data": {
      "text/plain": [
       "'u'"
      ]
     },
     "execution_count": 24,
     "metadata": {},
     "output_type": "execute_result"
    }
   ],
   "source": [
    "texto[1]"
   ]
  },
  {
   "cell_type": "code",
   "execution_count": 27,
   "metadata": {},
   "outputs": [
    {
     "name": "stdout",
     "output_type": "stream",
     "text": [
      "o_c\n"
     ]
    }
   ],
   "source": [
    "print (texto[6:9])"
   ]
  },
  {
   "cell_type": "code",
   "execution_count": 28,
   "metadata": {},
   "outputs": [
    {
     "data": {
      "text/plain": [
       "'o_con_el_ord'"
      ]
     },
     "execution_count": 28,
     "metadata": {},
     "output_type": "execute_result"
    }
   ],
   "source": [
    "texto[6:-2]"
   ]
  },
  {
   "cell_type": "markdown",
   "metadata": {},
   "source": [
    "## Asignaciones múltiples"
   ]
  },
  {
   "cell_type": "code",
   "execution_count": 29,
   "metadata": {},
   "outputs": [
    {
     "name": "stdout",
     "output_type": "stream",
     "text": [
      "Apple\n",
      "Watermelon\n",
      "Grape\n",
      "28\n",
      "Apple, Watermelon, Grape, 28\n"
     ]
    }
   ],
   "source": [
    "# Asignación múltiple\n",
    "\n",
    "w, x, y, z = \"Apple\", \"Watermelon\", \"Grape\", 28;\n",
    "\n",
    "print(w);\n",
    "print(x);\n",
    "print(y);\n",
    "print(z);\n",
    "print(w,x,y,z,sep=\", \");"
   ]
  },
  {
   "cell_type": "code",
   "execution_count": 31,
   "metadata": {},
   "outputs": [
    {
     "name": "stdout",
     "output_type": "stream",
     "text": [
      "Apple\n",
      "Watermelon\n",
      "Grape\n",
      "28\n",
      "Apple - Watermelon - Grape - 28\n"
     ]
    }
   ],
   "source": [
    "print(w);\n",
    "print(x);\n",
    "print(y);\n",
    "print(z);\n",
    "print(w,x,y,z,sep=\" - \");"
   ]
  },
  {
   "cell_type": "code",
   "execution_count": 33,
   "metadata": {},
   "outputs": [
    {
     "name": "stdout",
     "output_type": "stream",
     "text": [
      "x1 = 0.7\n",
      "x2 = 0.7\n",
      "x3 = 0.7\n"
     ]
    }
   ],
   "source": [
    "# Asignación múltiple del mismo valor\n",
    "\n",
    "x1 = x2 = x3 = 0.7;\n",
    "print('x1 =',x1);\n",
    "print('x2 =',x2);\n",
    "print('x3 =',x3);"
   ]
  },
  {
   "cell_type": "code",
   "execution_count": 41,
   "metadata": {},
   "outputs": [
    {
     "name": "stdout",
     "output_type": "stream",
     "text": [
      "(y,x)= 10 3\n"
     ]
    }
   ],
   "source": [
    "x, y = 3, 10\n",
    "\n",
    "print('(y,x)=', y, x)"
   ]
  },
  {
   "cell_type": "markdown",
   "metadata": {},
   "source": [
    "# Suma de Variables y concatenación de variables\n",
    "\n",
    "Python es tan sencillo e intutivo, que es posible sumar diferentes variables y sumarlas con el símbolo +. Cuando las variables son numéricas, se suman matemáticamente y cuando es texto se concatenan."
   ]
  },
  {
   "cell_type": "code",
   "execution_count": 42,
   "metadata": {},
   "outputs": [
    {
     "name": "stdout",
     "output_type": "stream",
     "text": [
      "Python is awesome\n",
      "6\n",
      "Python is the number 1\n"
     ]
    }
   ],
   "source": [
    "#Sumar dos variables\n",
    "x = \"Python is \";\n",
    "y = \"awesome\";\n",
    "z =  x + y;\n",
    "print(z);\n",
    "\n",
    "# Sumar dos números\n",
    "\n",
    "n1 = 1;\n",
    "n2 = 5;\n",
    "suma = n1 + n2;\n",
    "print(suma);\n",
    "\n",
    "# Escribir texto y números\n",
    "print(x+\"the number\",n1);"
   ]
  },
  {
   "cell_type": "markdown",
   "metadata": {},
   "source": [
    "# Operadores Aritméticos y redondeo"
   ]
  },
  {
   "cell_type": "code",
   "execution_count": 44,
   "metadata": {},
   "outputs": [
    {
     "data": {
      "text/plain": [
       "18.0"
      ]
     },
     "execution_count": 44,
     "metadata": {},
     "output_type": "execute_result"
    }
   ],
   "source": [
    "5*(3-5)**2-(6)/(9**(1/2))"
   ]
  },
  {
   "cell_type": "markdown",
   "metadata": {},
   "source": [
    "La división es una operación bien especial pues la mayoría de ocasiones produce un número con parte fraccionaria. Sin embargo, cuando estabamos pequeños nos enseñaron a dividir enteros dando como respuesta un entero llamado cociente y lo que hacia falta para completar la división, un número llamado residuo. En Python podemos calcular esos valores con \\\\ para el cociente y %para el residuo. Por ejemplo, sabemos que"
   ]
  },
  {
   "cell_type": "code",
   "execution_count": 45,
   "metadata": {},
   "outputs": [
    {
     "data": {
      "text/plain": [
       "6"
      ]
     },
     "execution_count": 45,
     "metadata": {},
     "output_type": "execute_result"
    }
   ],
   "source": [
    "20//3"
   ]
  },
  {
   "cell_type": "code",
   "execution_count": 46,
   "metadata": {},
   "outputs": [
    {
     "data": {
      "text/plain": [
       "2"
      ]
     },
     "execution_count": 46,
     "metadata": {},
     "output_type": "execute_result"
    }
   ],
   "source": [
    "20%3"
   ]
  },
  {
   "cell_type": "code",
   "execution_count": 47,
   "metadata": {},
   "outputs": [
    {
     "data": {
      "text/plain": [
       "(3+2j)"
      ]
     },
     "execution_count": 47,
     "metadata": {},
     "output_type": "execute_result"
    }
   ],
   "source": [
    "# Recordemos un poquito de nuestras matemáticas\n",
    "3+(-4)**(1/2) "
   ]
  },
  {
   "cell_type": "code",
   "execution_count": 48,
   "metadata": {},
   "outputs": [
    {
     "data": {
      "text/plain": [
       "15.666666666666666"
      ]
     },
     "execution_count": 48,
     "metadata": {},
     "output_type": "execute_result"
    }
   ],
   "source": [
    "n1=47/3\n",
    "n1"
   ]
  },
  {
   "cell_type": "code",
   "execution_count": 49,
   "metadata": {},
   "outputs": [
    {
     "data": {
      "text/plain": [
       "16"
      ]
     },
     "execution_count": 49,
     "metadata": {},
     "output_type": "execute_result"
    }
   ],
   "source": [
    "round(n1)"
   ]
  },
  {
   "cell_type": "code",
   "execution_count": 50,
   "metadata": {},
   "outputs": [
    {
     "data": {
      "text/plain": [
       "15.6667"
      ]
     },
     "execution_count": 50,
     "metadata": {},
     "output_type": "execute_result"
    }
   ],
   "source": [
    "round(n1,4)"
   ]
  },
  {
   "cell_type": "code",
   "execution_count": 52,
   "metadata": {},
   "outputs": [
    {
     "name": "stdout",
     "output_type": "stream",
     "text": [
      "3.141592653589793\n"
     ]
    },
    {
     "data": {
      "text/plain": [
       "3.1415927"
      ]
     },
     "execution_count": 52,
     "metadata": {},
     "output_type": "execute_result"
    }
   ],
   "source": [
    "# importando el número pi\n",
    "\n",
    "from math import *\n",
    "\n",
    "# visualizar pi\n",
    "print(pi)\n",
    "\n",
    "# Your code here\n",
    "round(pi,7)"
   ]
  },
  {
   "cell_type": "markdown",
   "metadata": {},
   "source": [
    "# Secuencias de Control"
   ]
  },
  {
   "cell_type": "code",
   "execution_count": 53,
   "metadata": {},
   "outputs": [
    {
     "name": "stdout",
     "output_type": "stream",
     "text": [
      "1 2\n"
     ]
    }
   ],
   "source": [
    "x = 1\n",
    "y = 2\n",
    "\n",
    "print(x,y)"
   ]
  },
  {
   "cell_type": "code",
   "execution_count": 54,
   "metadata": {},
   "outputs": [
    {
     "name": "stdout",
     "output_type": "stream",
     "text": [
      "Five is greater than Two\n",
      "lunes\n"
     ]
    }
   ],
   "source": [
    "# ejemplo if\n",
    "x = 5\n",
    "y = 2\n",
    "\n",
    "if x>y:\n",
    "    print(\"Five is greater than Two\")\n",
    "    print(\"lunes\")"
   ]
  },
  {
   "cell_type": "code",
   "execution_count": 56,
   "metadata": {},
   "outputs": [],
   "source": [
    "# ejemplo if (para que no imprima nada)\n",
    "x = 5\n",
    "y = 2\n",
    "\n",
    "if x<y:\n",
    "    print(\"Five is greater than Two\")\n",
    "    print(\"lunes\")"
   ]
  },
  {
   "cell_type": "code",
   "execution_count": 58,
   "metadata": {},
   "outputs": [
    {
     "name": "stdout",
     "output_type": "stream",
     "text": [
      "Five is less or equal than Two\n",
      "día diferente al lunes\n"
     ]
    }
   ],
   "source": [
    "# ejemplo if\n",
    "x = 5\n",
    "y = 2\n",
    "\n",
    "if x<y:\n",
    "    print(\"Five is greater than Two\")\n",
    "    print(\"lunes\")\n",
    "else:\n",
    "    print(\"Five is less or equal than Two\")\n",
    "    print(\"día diferente al lunes\")"
   ]
  },
  {
   "cell_type": "code",
   "execution_count": 59,
   "metadata": {},
   "outputs": [
    {
     "name": "stdout",
     "output_type": "stream",
     "text": [
      "David es un nombre muy corto\n"
     ]
    }
   ],
   "source": [
    "N='David'# cambiar 'Tu_nombre' por su verdadero nombre\n",
    "if len(N)>10:\n",
    "    A=\"es un nombre muy largo\"\n",
    "else:\n",
    "    A=\"es un nombre muy corto\"\n",
    "\n",
    "print(N,A,sep=\" \")"
   ]
  },
  {
   "cell_type": "code",
   "execution_count": 61,
   "metadata": {},
   "outputs": [
    {
     "name": "stdout",
     "output_type": "stream",
     "text": [
      "David Manuel Gómez Bolívar es un nombre muy largo\n"
     ]
    }
   ],
   "source": [
    "N='David Manuel Gómez Bolívar' #cambiar 'Tu_nombre_completo' por su verdadero nombre completo\n",
    "if len(N)>10:\n",
    "    A=\"es un nombre muy largo\"\n",
    "else:\n",
    "    A=\"es un nombre muy corto\"\n",
    "\n",
    "print(N,A,sep=\" \")"
   ]
  },
  {
   "cell_type": "code",
   "execution_count": 65,
   "metadata": {},
   "outputs": [
    {
     "name": "stdout",
     "output_type": "stream",
     "text": [
      "El nombre David Manuel--> es un nombre muy largo\n"
     ]
    }
   ],
   "source": [
    "N='El nombre David Manuel'\n",
    "if len(N)>10:\n",
    "    A=\"es un nombre muy largo\"\n",
    "else:\n",
    "    A=\"es un nombre muy corto\"\n",
    "\n",
    "print(N,A,sep=\"--> \")"
   ]
  },
  {
   "cell_type": "code",
   "execution_count": null,
   "metadata": {},
   "outputs": [],
   "source": []
  }
 ],
 "metadata": {
  "kernelspec": {
   "display_name": "Python 3",
   "language": "python",
   "name": "python3"
  },
  "language_info": {
   "codemirror_mode": {
    "name": "ipython",
    "version": 3
   },
   "file_extension": ".py",
   "mimetype": "text/x-python",
   "name": "python",
   "nbconvert_exporter": "python",
   "pygments_lexer": "ipython3",
   "version": "3.8.5"
  }
 },
 "nbformat": 4,
 "nbformat_minor": 4
}
