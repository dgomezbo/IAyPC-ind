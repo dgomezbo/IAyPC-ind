{
 "cells": [
  {
   "cell_type": "markdown",
   "metadata": {},
   "source": [
    "# Regresión lineal (por David Gómez Bolívar)"
   ]
  },
  {
   "cell_type": "markdown",
   "metadata": {},
   "source": [
    "## 1. Introducción\n",
    "\n",
    "Los modelos de regresión lineal son uno de los más sencillos, para abstraer una función que permita predecir el comportamiento de una variable dependiente, según el comportamiento de una variable independiente."
   ]
  },
  {
   "cell_type": "markdown",
   "metadata": {},
   "source": [
    "Image: 'http://www.sc.ehu.es/sbweb/fisica/cursoJava/numerico/regresion/regresion2.gif'"
   ]
  },
  {
   "cell_type": "markdown",
   "metadata": {},
   "source": [
    "Fuente: http://www.sc.ehu.es/sbweb/fisica/cursoJava/numerico/regresion/regresion.htm"
   ]
  },
  {
   "cell_type": "markdown",
   "metadata": {},
   "source": [
    "## 2. Breve historia"
   ]
  },
  {
   "cell_type": "markdown",
   "metadata": {},
   "source": [
    "Según el trabajo de Estepa Castro, Gea Serrano, Cañadas de la Fuente y Contreras García (2012), se contempla que \"La formación de las nociones de correlación y regresión proviene, en gran parte, de estudios\n",
    "realizados en Biología, Biometría y Eugenesia. El primer autor que se interesa en el tema fue LambertAdolphe-Jacques Quetelet (1796-1874), conocido como Adolphe Quetelet, nacido en Gante, Bélgica.\n",
    "Obtuvo su doctorado en Matemáticas con una tesis sobre secciones cónicas, llegando a ser director del\n",
    "observatorio astronómico de Bruselas. Fue un hombre de gran energía, entusiasmo y talento\n",
    "organizativo que utilizó para crear varias instituciones internacionales\"."
   ]
  },
  {
   "cell_type": "markdown",
   "metadata": {},
   "source": [
    "Fuente: https://core.ac.uk/download/pdf/20343739.pdf"
   ]
  },
  {
   "cell_type": "markdown",
   "metadata": {},
   "source": [
    "Sobre los origenes de la regresión lineal, cabe mencionar que más allá del planteamiento matemático, si existía desde el desarrollo del pensamiento occidental, los principios matemáticos que identificaban el impacto de una acción de un agente, en la acción de otro agente, como la de un amo sobre su esclavo. Dicha relación se empezó a trasladar al análisis de los eventos de la naturaleza, en el concepto de acción - reacción."
   ]
  },
  {
   "cell_type": "markdown",
   "metadata": {},
   "source": [
    "## 3. El algoritmo"
   ]
  },
  {
   "cell_type": "markdown",
   "metadata": {},
   "source": [
    "El objetivo es obtener, tras analizar una serie de datos, una función lineal, bajo la siguiente estructura:\n",
    "\n",
    "y = mx + b\n",
    "\n",
    "En la anterior expresión, cabe mencionar que 'y' corresponde a la variable dependiente, 'm' a la pendiente de la recta, 'x' a la variable independiente y 'b' al punto de intersecto de la función en el eje Y."
   ]
  },
  {
   "cell_type": "markdown",
   "metadata": {},
   "source": [
    "## 4. Ejemplo en Python"
   ]
  },
  {
   "cell_type": "markdown",
   "metadata": {},
   "source": [
    "A continuación se observa un código de Python, bajo una estructura de función muy simple (sin ruido gaussiano); una función lineal, bajo la estructura matemática descrita en el numeral 3."
   ]
  },
  {
   "cell_type": "markdown",
   "metadata": {},
   "source": [
    "Fuente: [Notebook del profesor Daniel Montenegro]"
   ]
  },
  {
   "cell_type": "code",
   "execution_count": 18,
   "metadata": {},
   "outputs": [
    {
     "data": {
      "image/png": "[encoded data removed]",
      "text/plain": [
       "<Figure size 432x288 with 1 Axes>"
      ]
     },
     "metadata": {
      "needs_background": "light"
     },
     "output_type": "display_data"
    }
   ],
   "source": [
    "import matplotlib.pyplot as plt\n",
    "import numpy as np\n",
    "\n",
    "x_train = np.array([0,1,2,4,5,6,8,9,10,11,12,13,14,15,16])\n",
    "x_val =  np.array([3,7])\n",
    "\n",
    "y_train =  np.array([3.9, 4.4, 10.8,  11.2, 13.1, 14.1,  9.9,  15.1, 12.5, 13, 14, 15, 17.5, 19, 20.7])\n",
    "y_val =  np.array([10.3, 13.9])\n",
    "\n",
    "# fit a linear curve an estimate its y-values and their error.\n",
    "a, b = np.polyfit(x_train, y_train, deg=1)\n",
    "y_est = a * x_train + b\n",
    "\n",
    "fig, ax = plt.subplots()\n",
    "ax.plot(x_train, y_est, '-')\n",
    "ax.plot(x_train, y_train, 'o', color='tab:brown')\n",
    "ax.plot(x_val, y_val, 'o', color='tab:green')\n",
    "\n",
    "plt.show()"
   ]
  },
  {
   "cell_type": "markdown",
   "metadata": {},
   "source": [
    "Adicionalmente, podemos generar un modelo de regresión lineal, con ruido gaussiano, como el siguiente:"
   ]
  },
  {
   "cell_type": "markdown",
   "metadata": {},
   "source": [
    "Fuente: https://www.iartificial.net/regresion-lineal-con-ejemplos-en-python/#Regresion_Lineal_en_Python"
   ]
  },
  {
   "cell_type": "code",
   "execution_count": 22,
   "metadata": {},
   "outputs": [
    {
     "data": {
      "text/plain": [
       "Text(0.5, 1.0, 'Datos')"
      ]
     },
     "execution_count": 22,
     "metadata": {},
     "output_type": "execute_result"
    },
    {
     "data": {
      "image/png": "[encoded data removed]",
      "text/plain": [
       "<Figure size 432x288 with 1 Axes>"
      ]
     },
     "metadata": {
      "needs_background": "light"
     },
     "output_type": "display_data"
    }
   ],
   "source": [
    "from sklearn.linear_model import LinearRegression #Regresión Lineal con scikit-learn\n",
    "def f(x):  # función f(x) = 0.2*x + 2.3 + 0.2 ruida gaussiano\n",
    "    np.random.seed(42) # para poder reproducirlo\n",
    "    y = 0.2*x + 2.3 +0.2*np.random.randn(x.shape[0])\n",
    "    return y\n",
    "x = np.arange(0, 30, 0.5) # generamos valores x de 0 a 30 en intervalos de 0.5\n",
    "y = f(x) # calculamos y a partir de la función que hemos generado\n",
    "# hacemos un gráfico de los datos que hemos generado\n",
    "plt.scatter(x,y,label='data', color='blue')\n",
    "plt.title('Datos')"
   ]
  },
  {
   "cell_type": "markdown",
   "metadata": {},
   "source": [
    "Finalmente, podemos generar una línea de tendencia lineal, que sería el reflejo de la regresión lineal, sobre los datos simulados:"
   ]
  },
  {
   "cell_type": "code",
   "execution_count": 26,
   "metadata": {},
   "outputs": [],
   "source": [
    "# fit a linear curve an estimate its y-values and their error.\n",
    "a, b = np.polyfit(x, y, deg=1)\n",
    "y = a * x + b\n",
    "\n",
    "ax.plot(x, y, '-')\n",
    "plt.show()"
   ]
  },
  {
   "cell_type": "markdown",
   "metadata": {},
   "source": [
    "## 5. Conclusiones\n",
    "\n",
    "La regresión lineal tiene como gran ventaja su facilidad de generación e interpretación. No obstante, los niveles de error de la función lineal pueden ser muy altos, cuando los datos no presentan un patron / tendencia \"homogenea\"."
   ]
  },
  {
   "cell_type": "code",
   "execution_count": null,
   "metadata": {},
   "outputs": [],
   "source": []
  }
 ],
 "metadata": {
  "kernelspec": {
   "display_name": "Python 3",
   "language": "python",
   "name": "python3"
  },
  "language_info": {
   "codemirror_mode": {
    "name": "ipython",
    "version": 3
   },
   "file_extension": ".py",
   "mimetype": "text/x-python",
   "name": "python",
   "nbconvert_exporter": "python",
   "pygments_lexer": "ipython3",
   "version": "3.8.5"
  }
 },
 "nbformat": 4,
 "nbformat_minor": 4
}
