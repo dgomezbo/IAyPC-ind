{
  "nbformat": 4,
  "nbformat_minor": 0,
  "metadata": {
    "colab": {
      "name": "dgomezbo 20210306 CPU GPU TPU.ipynb",
      "provenance": [],
      "authorship_tag": "ABX9TyMhZ8q5YJDWuaJ8VNY4Fh1n",
      "include_colab_link": true
    },
    "kernelspec": {
      "name": "python3",
      "display_name": "Python 3"
    }
  },
  "cells": [
    {
      "cell_type": "markdown",
      "metadata": {
        "id": "view-in-github",
        "colab_type": "text"
      },
      "source": [
        "<a href=\"https://colab.research.google.com/github/dgomezbo/IAyPC-ind/blob/main/dgomezbo_20210306_CPU_GPU_TPU.ipynb\" target=\"_parent\"><img src=\"https://colab.research.google.com/assets/colab-badge.svg\" alt=\"Open In Colab\"/></a>"
      ]
    },
    {
      "cell_type": "markdown",
      "metadata": {
        "id": "ad9_rIgJvjzq"
      },
      "source": [
        "# Autor: David Manuel Gómez Bolívar\r\n"
      ]
    },
    {
      "cell_type": "markdown",
      "metadata": {
        "id": "GVjnS-NwzJ9t"
      },
      "source": [
        "# 1 La CPU como génesis del hardware"
      ]
    },
    {
      "cell_type": "markdown",
      "metadata": {
        "id": "Qw2cPcouwSJK"
      },
      "source": [
        "## Fuente: https://www.xataka.com/basics/cpu-que-como-sirve"
      ]
    },
    {
      "cell_type": "markdown",
      "metadata": {
        "id": "7AoK9FSrwmqE"
      },
      "source": [
        "> Más allá de hacer reverencia sobre la complejidad de una CPU en el contexto del hardware del siglo XX, y de sus limitaciones analizando el futuro del hardware en el siglo XXI (y venideros); es innegable la importancia de la Central Processing Unit (CPU) en nuestra vida rodeada de tecnología"
      ]
    },
    {
      "cell_type": "code",
      "metadata": {
        "colab": {
          "base_uri": "https://localhost:8080/"
        },
        "id": "38j7-k2XxB7j",
        "outputId": "5b8684ca-d59f-49a0-cbf8-378b173a773e"
      },
      "source": [
        "![Imagen] (https://icdn2.digitaltrends.com/image/digitaltrends_es/installing_cpu_head-768x768.jpg)"
      ],
      "execution_count": null,
      "outputs": [
        {
          "output_type": "stream",
          "text": [
            "/bin/bash: -c: line 0: syntax error near unexpected token `https://icdn2.digitaltrends.com/image/digitaltrends_es/installing_cpu_head-768x768.jpg'\n",
            "/bin/bash: -c: line 0: `[Imagen] (https://icdn2.digitaltrends.com/image/digitaltrends_es/installing_cpu_head-768x768.jpg)'\n"
          ],
          "name": "stdout"
        }
      ]
    },
    {
      "cell_type": "markdown",
      "metadata": {
        "id": "FT7MzrATkcnv"
      },
      "source": [
        "> Si bien es cierto las CPUs nos permiten ejecutar procesos, tras instrucciones que le damos a un PC, lamentablemente no tienen la infraestructura para que demos paso al siguiente nivel: rendimiento óptimo del equipo y capacidad de analizar información más allá de datos (imagenes)"
      ]
    },
    {
      "cell_type": "code",
      "metadata": {
        "colab": {
          "base_uri": "https://localhost:8080/"
        },
        "id": "gmDD8DcFxKij",
        "outputId": "ca4e3e18-5e3a-49a8-89a0-3aa23a171101"
      },
      "source": [
        "![Imagen] (https://icdn2.digitaltrends.com/image/digitaltrends_es/installing_cpu_head-416x416.jpg)"
      ],
      "execution_count": null,
      "outputs": [
        {
          "output_type": "stream",
          "text": [
            "/bin/bash: -c: line 0: syntax error near unexpected token `https://icdn2.digitaltrends.com/image/digitaltrends_es/installing_cpu_head-416x416.jpg'\n",
            "/bin/bash: -c: line 0: `[Imagen] (https://icdn2.digitaltrends.com/image/digitaltrends_es/installing_cpu_head-416x416.jpg)'\n"
          ],
          "name": "stdout"
        }
      ]
    },
    {
      "cell_type": "markdown",
      "metadata": {
        "id": "w_EwPN6tzY4L"
      },
      "source": [
        "# 2 La GPU: más allá de los videojuegos"
      ]
    },
    {
      "cell_type": "markdown",
      "metadata": {
        "id": "Ziijm1xd0DfD"
      },
      "source": [
        "## Fuente: https://hardzone.es/reportajes/que-es/gpu-caracteristicas-especificaciones/"
      ]
    },
    {
      "cell_type": "markdown",
      "metadata": {
        "id": "8irpbVoS0Tgo"
      },
      "source": [
        "> Preliminarmente, podríamos quedarnos con la descripción de la sigla GPU, la cual refleja como concepto primario el gráfico (Graphics Processing Unit), y pensaríamos que simplemente es una especie de tarjeta que nos permite visualizar imagenes en nuestro PC\r\n",
        "\r\n",
        "> Sin embargo, no nos quedemos en las \"apariencias\". ¿Que requiere hacer una GPU para presentarnos imagenes, y lo que es más robusto, presentarnos un video? ¿Acaso es simplemente una instrucción más?"
      ]
    },
    {
      "cell_type": "code",
      "metadata": {
        "id": "snkD6Wic1Bpu"
      },
      "source": [
        "![Imagen] (https://www.elmundogeek.com.mx/wp-content/uploads/2020/10/gpu-1024x489.jpg)"
      ],
      "execution_count": null,
      "outputs": []
    },
    {
      "cell_type": "markdown",
      "metadata": {
        "id": "LNBYGCkY1LyC"
      },
      "source": [
        "> La respuesta es No. A veces en la vida nos quedamos con el producto o salida, pero no interiorizamos lo que sucede para llegar a dicho resultado. \r\n",
        "\r\n",
        "> La GPU realiza una enorme cantidad de tareas (cálculos) para podernos ofrecer en nuestro PC una imagen. Por el momento, quedemonos con el siguiente dato: \"Una GPU se basa en un chip de silicio que alberga una serie de millones de transistores bajo una arquitectura específica y con unas prestaciones dedicadas para cada modelo en concreto\". \r\n",
        "\r\n",
        "> \"Solamente\" ... millones de transistores! Asombroso, no?"
      ]
    },
    {
      "cell_type": "markdown",
      "metadata": {
        "id": "9iHoipX_2EMW"
      },
      "source": [
        "# 3 TPU: la última frontera?"
      ]
    },
    {
      "cell_type": "markdown",
      "metadata": {
        "id": "EiXO2-aV2d8Y"
      },
      "source": [
        "## Fuente: https://leslysandra.medium.com/cpu-gpu-tpu-e4a686d3dbc9"
      ]
    },
    {
      "cell_type": "markdown",
      "metadata": {
        "id": "oKweoNs22mVf"
      },
      "source": [
        "> Las Tensor Processing Unit (TPUs) reflejan el mayor nivel de capacidad de computo en el hardware actual, porque permiten tener un mayor nivel de velocidad y capacidad única, para ejecutar las tareas más robustas."
      ]
    },
    {
      "cell_type": "code",
      "metadata": {
        "colab": {
          "base_uri": "https://localhost:8080/"
        },
        "id": "C6GzDv803LY1",
        "outputId": "52bdb6a2-edda-43c8-a99e-f2e596dfbcfb"
      },
      "source": [
        "![Imagen](https://miro.medium.com/max/700/1*6rx7qlv9H16OR3BUL0WgQQ.png)"
      ],
      "execution_count": null,
      "outputs": [
        {
          "output_type": "stream",
          "text": [
            "/bin/bash: -c: line 0: syntax error near unexpected token `https://miro.medium.com/max/700/1*6rx7qlv9H16OR3BUL0WgQQ.png'\n",
            "/bin/bash: -c: line 0: `[Imagen](https://miro.medium.com/max/700/1*6rx7qlv9H16OR3BUL0WgQQ.png)'\n"
          ],
          "name": "stdout"
        }
      ]
    },
    {
      "cell_type": "markdown",
      "metadata": {
        "id": "Grc7ehbg3Y2J"
      },
      "source": [
        "> Ahora bien, pero ... ¿por qué necesitaría una TPU si soy feliz con mis videojuegos e interfaz gráfica de mi PC? O .. ¿para que una TPU si puedo ver videos y fotos sin problema alguno?\r\n",
        "\r\n",
        "> La respuesta está asociada a si deseas, o no, hacer parte de la 4ta revolución industrial: inteligencia artificial y machine learning.\r\n",
        "\r\n",
        "> Por ende, y según como menciona la página web española especializada en IT Quora, \"https://es.quora.com/Qu%C3%A9-es-un-TPU-C%C3%B3mo-funciona-Es-mejor-que-una-GPU\", las TPUs son los mecanismos más eficientes para ejecutar procesos de inteligencia artificial.\r\n",
        "\r\n",
        "> Tú veras, ¿te la juegas con una GPU y quizás ... se te pase 1 año entero ejecutando los algoritmos?, o .. ¿acudes a una TPU para que tu proceso sea de algunos minutos?"
      ]
    },
    {
      "cell_type": "code",
      "metadata": {
        "colab": {
          "base_uri": "https://localhost:8080/"
        },
        "id": "MSPFmXfJ4ZsN",
        "outputId": "79be0a1c-82ea-4390-ca88-3e81844d8b7d"
      },
      "source": [
        "![Imagen] (https://qph.fs.quoracdn.net/main-qimg-489f66a725879c1fde96d90865b34dfd)"
      ],
      "execution_count": null,
      "outputs": [
        {
          "output_type": "stream",
          "text": [
            "/bin/bash: -c: line 0: syntax error near unexpected token `https://qph.fs.quoracdn.net/main-qimg-489f66a725879c1fde96d90865b34dfd'\n",
            "/bin/bash: -c: line 0: `[Imagen] (https://qph.fs.quoracdn.net/main-qimg-489f66a725879c1fde96d90865b34dfd)'\n"
          ],
          "name": "stdout"
        }
      ]
    },
    {
      "cell_type": "markdown",
      "metadata": {
        "id": "GDz4rw8y44fj"
      },
      "source": [
        "> Increible lo que una tarjeta tan pequeña puede ser, no? Sin embargo, las TPUs son aún muy costosas, de ahí que proveedores de Internet como Google, nos las pueden \"prestar\" para ejecutar nuestros cálculos. \r\n",
        "\r\n",
        "> Para ello es esencial acceder a la librería de lenguaje abierto ## Tensor Flow, dado que Google sigue a la vanguardia de las TPUs. ¿Quién podrá destronarlo? Intel? Sólo el tiempo lo dirá ...  "
      ]
    }
  ]
}